{
 "cells": [
  {
   "cell_type": "code",
   "execution_count": null,
   "id": "0497c0d1",
   "metadata": {},
   "outputs": [
    {
     "ename": "",
     "evalue": "",
     "output_type": "error",
     "traceback": [
      "\u001b[1;31m執行具有 'Python 3.10.12' 的儲存格需要 ipykernel 套件。\n",
      "\u001b[1;31m將 'ipykernel' 安裝到 Python 環境中。\n",
      "\u001b[1;31m命令: '/bin/python3 -m pip install ipykernel -U --user --force-reinstall'"
     ]
    }
   ],
   "source": [
    "print('123')"
   ]
  },
  {
   "cell_type": "code",
   "execution_count": null,
   "id": "8ff46f46",
   "metadata": {},
   "outputs": [
    {
     "ename": "",
     "evalue": "",
     "output_type": "error",
     "traceback": [
      "\u001b[1;31m執行具有 'Python 3.10.12' 的儲存格需要 ipykernel 套件。\n",
      "\u001b[1;31m將 'ipykernel' 安裝到 Python 環境中。\n",
      "\u001b[1;31m命令: '/bin/python3 -m pip install ipykernel -U --user --force-reinstall'"
     ]
    }
   ],
   "source": [
    "print(\"hi 提拔我\")"
   ]
  },
  {
   "cell_type": "code",
   "execution_count": null,
   "id": "4ea4908c",
   "metadata": {},
   "outputs": [],
   "source": [
    "!pip install ipykernel -U --user --force-reinstall"
   ]
  }
 ],
 "metadata": {
  "kernelspec": {
   "display_name": "Python 3",
   "language": "python",
   "name": "python3"
  },
  "language_info": {
   "name": "python",
   "version": "3.10.12"
  }
 },
 "nbformat": 4,
 "nbformat_minor": 5
}
